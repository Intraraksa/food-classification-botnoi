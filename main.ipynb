{
 "cells": [
  {
   "cell_type": "code",
   "execution_count": 1,
   "id": "bdaf708b",
   "metadata": {},
   "outputs": [],
   "source": [
    "import tensorflow as tf\n",
    "import cv2\n",
    "# import matplotlib.pyplot as plt\n",
    "import numpy as np"
   ]
  },
  {
   "cell_type": "code",
   "execution_count": 2,
   "id": "c0136a0b",
   "metadata": {
    "scrolled": true
   },
   "outputs": [
    {
     "data": {
      "text/plain": [
       "'2.7.0'"
      ]
     },
     "execution_count": 2,
     "metadata": {},
     "output_type": "execute_result"
    }
   ],
   "source": [
    "tf.__version__"
   ]
  },
  {
   "cell_type": "code",
   "execution_count": 3,
   "id": "cf6093e9",
   "metadata": {},
   "outputs": [
    {
     "data": {
      "text/plain": [
       "[PhysicalDevice(name='/physical_device:GPU:0', device_type='GPU')]"
      ]
     },
     "execution_count": 3,
     "metadata": {},
     "output_type": "execute_result"
    }
   ],
   "source": [
    "tf.config.list_physical_devices('GPU')"
   ]
  },
  {
   "cell_type": "code",
   "execution_count": 2,
   "id": "ed1b64dd",
   "metadata": {
    "scrolled": true
   },
   "outputs": [],
   "source": [
    "model = tf.keras.models.load_model(\"C:/Users/n_int/Desktop/botnoi  computer vision/food.h5\")"
   ]
  },
  {
   "cell_type": "code",
   "execution_count": 5,
   "id": "951adf15",
   "metadata": {},
   "outputs": [],
   "source": [
    "def predict_img(img):\n",
    "    img = cv2.cvtColor(img,cv2.COLOR_BGR2RGB)\n",
    "    img = cv2.resize(img,(224,224))\n",
    "    img = tf.expand_dims(img,0)\n",
    "    results = model.predict(img)\n",
    "    food_class = np.argmax(results)\n",
    "    if results[0][food_class] >= 0.95:\n",
    "        return food_class\n",
    "    else:\n",
    "        return \"Nothing\""
   ]
  },
  {
   "cell_type": "code",
   "execution_count": 7,
   "id": "bb27999e",
   "metadata": {},
   "outputs": [],
   "source": [
    "img = cv2.imread(\"hamburger.jpg\")\n",
    "food_class = predict_img(img)\n",
    "cv2.putText(img,f\"{food_class}\",(20,20),cv2.FONT_HERSHEY_COMPLEX,1,(200,10,150),1)\n",
    "cv2.imshow(\"result\",img)\n",
    "cv2.waitKey(0)\n",
    "cv2.destroyAllWindows()"
   ]
  },
  {
   "cell_type": "code",
   "execution_count": 80,
   "id": "9f1ac790",
   "metadata": {},
   "outputs": [
    {
     "data": {
      "text/plain": [
       "4"
      ]
     },
     "execution_count": 80,
     "metadata": {},
     "output_type": "execute_result"
    }
   ],
   "source": [
    "x = tf.expand_dims(img_reshape,0)\n",
    "result = model.predict(x)\n",
    "np.argmax(result)"
   ]
  },
  {
   "cell_type": "code",
   "execution_count": 81,
   "id": "369ba9d9",
   "metadata": {},
   "outputs": [
    {
     "data": {
      "text/plain": [
       "0.9767228"
      ]
     },
     "execution_count": 81,
     "metadata": {},
     "output_type": "execute_result"
    }
   ],
   "source": [
    "result[0][4]"
   ]
  },
  {
   "cell_type": "code",
   "execution_count": 30,
   "id": "67765617",
   "metadata": {},
   "outputs": [],
   "source": [
    "result = model.predict(x)\n",
    "np.argmax(result)"
   ]
  },
  {
   "cell_type": "code",
   "execution_count": 31,
   "id": "90beb0df",
   "metadata": {},
   "outputs": [
    {
     "data": {
      "text/plain": [
       "7"
      ]
     },
     "execution_count": 31,
     "metadata": {},
     "output_type": "execute_result"
    }
   ],
   "source": [
    "np.argmax(result)"
   ]
  },
  {
   "cell_type": "code",
   "execution_count": 13,
   "id": "f56d4715",
   "metadata": {},
   "outputs": [],
   "source": [
    "data = tf.keras.preprocessing.image.load_img(\"rice.jpg\")\n",
    "# data = tf.keras.preprocessing.image.load_img(\"/content/hamburger.jpg\")\n",
    "# data = data.resize((224,224))\n",
    "# data = tf.keras.utils.img_to_array(data)\n",
    "# data = tf.expand_dims(data,0)"
   ]
  },
  {
   "cell_type": "code",
   "execution_count": 10,
   "id": "02bbc8d5",
   "metadata": {},
   "outputs": [
    {
     "data": {
      "text/plain": [
       "2"
      ]
     },
     "execution_count": 10,
     "metadata": {},
     "output_type": "execute_result"
    }
   ],
   "source": [
    "result = model.predict(data)\n",
    "np.argmax(result)"
   ]
  },
  {
   "cell_type": "code",
   "execution_count": 11,
   "id": "1c3629b0",
   "metadata": {},
   "outputs": [
    {
     "data": {
      "text/plain": [
       "numpy.ndarray"
      ]
     },
     "execution_count": 11,
     "metadata": {},
     "output_type": "execute_result"
    }
   ],
   "source": []
  },
  {
   "cell_type": "code",
   "execution_count": 15,
   "id": "f3f0357a",
   "metadata": {},
   "outputs": [
    {
     "data": {
      "text/plain": [
       "PIL.JpegImagePlugin.JpegImageFile"
      ]
     },
     "execution_count": 15,
     "metadata": {},
     "output_type": "execute_result"
    }
   ],
   "source": [
    "type(data)"
   ]
  },
  {
   "cell_type": "code",
   "execution_count": 8,
   "id": "64572c53",
   "metadata": {},
   "outputs": [],
   "source": [
    "cap = cv2.VideoCapture(0)\n",
    "while True:\n",
    "    ret,frame = cap.read()\n",
    "    food_class = predict_img(frame)\n",
    "    cv2.putText(frame,f\"{food_class}\",(20,20),cv2.FONT_HERSHEY_COMPLEX,1,(200,10,150),1)\n",
    "    cv2.imshow(\"video\",frame)\n",
    "    if cv2.waitKey(1)  == ord(\"q\"):\n",
    "        break\n",
    "cap.release()\n",
    "cv2.destroyAllWindows()"
   ]
  },
  {
   "cell_type": "code",
   "execution_count": 12,
   "id": "423e7308",
   "metadata": {},
   "outputs": [],
   "source": [
    "with open('classes_name.txt','r') as f:\n",
    "    classes_name = f.read().split('\\n')"
   ]
  },
  {
   "cell_type": "code",
   "execution_count": 14,
   "id": "9aec0460",
   "metadata": {},
   "outputs": [
    {
     "data": {
      "text/plain": [
       "'chicken_curry'"
      ]
     },
     "execution_count": 14,
     "metadata": {},
     "output_type": "execute_result"
    }
   ],
   "source": [
    "classes_name[0]"
   ]
  },
  {
   "cell_type": "code",
   "execution_count": null,
   "id": "b99c8a8c",
   "metadata": {},
   "outputs": [],
   "source": [
    "# import tensorflow as tf\n",
    "# import cv2\n",
    "# import numpy as np\n",
    "\n",
    "# model = tf.keras.models.load_model(\"food.h5\")\n",
    "\n",
    "with open('classes_name.txt','r') as f:\n",
    "    classes_name = f.read().split('\\n')\n",
    "\n",
    "def predict_img(img):\n",
    "    img = cv2.cvtColor(img,cv2.COLOR_BGR2RGB)\n",
    "    img = cv2.resize(img,(224,224))\n",
    "    img = tf.expand_dims(img,0)\n",
    "    results = model.predict(img)\n",
    "    food_class = np.argmax(results)\n",
    "    if results[0][food_class] >= 0.95:\n",
    "        return food_class\n",
    "    else:\n",
    "        return \"10\"\n",
    "\n",
    "cap = cv2.VideoCapture(1)\n",
    "while cap.isOpened():\n",
    "    ret,frame = cap.read()\n",
    "    food_class = predict_img(frame)\n",
    "    cv2.putText(frame,f\"{classes_name[int(food_class)]}\",(20,20),cv2.FONT_HERSHEY_COMPLEX,1,(200,10,150),1)\n",
    "    cv2.imshow(\"video\",frame)\n",
    "    if cv2.waitKey(1)  == ord(\"q\"):\n",
    "        break\n",
    "cap.release()\n",
    "cv2.destroyAllWindows()"
   ]
  },
  {
   "cell_type": "code",
   "execution_count": 2,
   "id": "b69fbcfc",
   "metadata": {},
   "outputs": [
    {
     "data": {
      "text/plain": [
       "'Nothing'"
      ]
     },
     "execution_count": 2,
     "metadata": {},
     "output_type": "execute_result"
    }
   ],
   "source": [
    "food_class"
   ]
  },
  {
   "cell_type": "code",
   "execution_count": 3,
   "id": "9a3e160f",
   "metadata": {},
   "outputs": [],
   "source": [
    "a = \"1\""
   ]
  },
  {
   "cell_type": "code",
   "execution_count": 5,
   "id": "b814c6ac",
   "metadata": {},
   "outputs": [
    {
     "data": {
      "text/plain": [
       "1"
      ]
     },
     "execution_count": 5,
     "metadata": {},
     "output_type": "execute_result"
    }
   ],
   "source": [
    "int(a)"
   ]
  },
  {
   "cell_type": "code",
   "execution_count": 1,
   "id": "1ce45733",
   "metadata": {},
   "outputs": [
    {
     "ename": "NameError",
     "evalue": "name 'cv2' is not defined",
     "output_type": "error",
     "traceback": [
      "\u001b[1;31m---------------------------------------------------------------------------\u001b[0m",
      "\u001b[1;31mNameError\u001b[0m                                 Traceback (most recent call last)",
      "\u001b[1;32m~\\AppData\\Local\\Temp/ipykernel_14544/1717207135.py\u001b[0m in \u001b[0;36m<module>\u001b[1;34m\u001b[0m\n\u001b[1;32m----> 1\u001b[1;33m \u001b[0mcv2\u001b[0m\u001b[1;33m.\u001b[0m\u001b[0m__version__\u001b[0m\u001b[1;33m\u001b[0m\u001b[1;33m\u001b[0m\u001b[0m\n\u001b[0m",
      "\u001b[1;31mNameError\u001b[0m: name 'cv2' is not defined"
     ]
    }
   ],
   "source": [
    "cv2.__version__"
   ]
  },
  {
   "cell_type": "code",
   "execution_count": null,
   "id": "b3411f5a",
   "metadata": {},
   "outputs": [],
   "source": []
  }
 ],
 "metadata": {
  "kernelspec": {
   "display_name": "Python 3 (ipykernel)",
   "language": "python",
   "name": "python3"
  },
  "language_info": {
   "codemirror_mode": {
    "name": "ipython",
    "version": 3
   },
   "file_extension": ".py",
   "mimetype": "text/x-python",
   "name": "python",
   "nbconvert_exporter": "python",
   "pygments_lexer": "ipython3",
   "version": "3.9.7"
  }
 },
 "nbformat": 4,
 "nbformat_minor": 5
}
